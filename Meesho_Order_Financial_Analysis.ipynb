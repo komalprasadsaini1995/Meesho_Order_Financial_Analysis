{
 "cells": [
  {
   "cell_type": "code",
   "execution_count": 1,
   "id": "a9f26f18-3b0c-4cfb-ab35-396f2ce7268f",
   "metadata": {},
   "outputs": [],
   "source": [
    "import numpy as np\n",
    "import pandas as pd\n",
    "import matplotlib.pyplot as plt \n",
    "%matplotlib inline\n",
    "import seaborn as sns"
   ]
  },
  {
   "cell_type": "code",
   "execution_count": 2,
   "id": "53cca509-20dc-4005-b7c1-e40bf43b4ba9",
   "metadata": {},
   "outputs": [],
   "source": [
    "file_path = r\"C:\\Users\\FUJITSU\\Downloads\\Meesho_Payment_Sheet_Oct.xlsx\""
   ]
  },
  {
   "cell_type": "code",
   "execution_count": 5,
   "id": "72dcc729-e993-40a9-a9b1-84cea82fefde",
   "metadata": {},
   "outputs": [],
   "source": [
    "# Loading Order Payments data\n",
    "order_payments_df = pd.read_excel( r'C:\\Users\\FUJITSU\\Downloads\\Meesho_Payment_Sheet_Oct.xlsx', sheet_name='Order Payments')\n",
    "\n",
    "# Loading Purchase Price data\n",
    "purchase_price_df= pd.read_excel( r'C:\\Users\\FUJITSU\\Downloads\\Meesho_Payment_Sheet_Oct.xlsx', sheet_name='Purchase Price')"
   ]
  },
  {
   "cell_type": "code",
   "execution_count": 6,
   "id": "5d2beeeb-20dd-4c3b-97a2-363d21ffb7ee",
   "metadata": {},
   "outputs": [
    {
     "data": {
      "text/plain": [
       "(280, 2)"
      ]
     },
     "execution_count": 6,
     "metadata": {},
     "output_type": "execute_result"
    }
   ],
   "source": [
    "order_payments_df.shape\n",
    "purchase_price_df.shape\n"
   ]
  },
  {
   "cell_type": "code",
   "execution_count": 7,
   "id": "fe153b7f-9d01-4b4d-908e-1636c5528eda",
   "metadata": {},
   "outputs": [
    {
     "data": {
      "text/html": [
       "<div>\n",
       "<style scoped>\n",
       "    .dataframe tbody tr th:only-of-type {\n",
       "        vertical-align: middle;\n",
       "    }\n",
       "\n",
       "    .dataframe tbody tr th {\n",
       "        vertical-align: top;\n",
       "    }\n",
       "\n",
       "    .dataframe thead th {\n",
       "        text-align: right;\n",
       "    }\n",
       "</style>\n",
       "<table border=\"1\" class=\"dataframe\">\n",
       "  <thead>\n",
       "    <tr style=\"text-align: right;\">\n",
       "      <th></th>\n",
       "      <th>Order Date</th>\n",
       "      <th>Supplier SKU</th>\n",
       "      <th>Live Order Status</th>\n",
       "      <th>Product GST %</th>\n",
       "      <th>Listing Price (Incl. GST &amp; Commission)</th>\n",
       "      <th>Quantity</th>\n",
       "      <th>Transaction ID</th>\n",
       "      <th>Payment Date</th>\n",
       "      <th>Final Settlement Amount</th>\n",
       "      <th>Price Type</th>\n",
       "      <th>...</th>\n",
       "      <th>Sale Return Amount (Incl. GST)</th>\n",
       "      <th>Shipping Revenue (Incl. GST)</th>\n",
       "      <th>Shipping Return Amount (Incl. GST)</th>\n",
       "      <th>Return Shipping Charge (Excl. GST)</th>\n",
       "      <th>Shipping Charge (Excl. GST)</th>\n",
       "      <th>GST on Shipping Charge', 'CGST + SGST on Shipping Charge</th>\n",
       "      <th>GST on Return Shipping Charge</th>\n",
       "      <th>TCS</th>\n",
       "      <th>TDS Rate %</th>\n",
       "      <th>TDS</th>\n",
       "    </tr>\n",
       "  </thead>\n",
       "  <tbody>\n",
       "    <tr>\n",
       "      <th>0</th>\n",
       "      <td>2023-07-21 12:16:19</td>\n",
       "      <td>ART-MARK-ALC-12SK</td>\n",
       "      <td>Cancelled</td>\n",
       "      <td>18</td>\n",
       "      <td>207.0</td>\n",
       "      <td>1.0</td>\n",
       "      <td>IN6ON231009037US</td>\n",
       "      <td>2023-10-09</td>\n",
       "      <td>201.65</td>\n",
       "      <td>BASIC</td>\n",
       "      <td>...</td>\n",
       "      <td>0.0</td>\n",
       "      <td>108.0</td>\n",
       "      <td>0.0</td>\n",
       "      <td>0.0</td>\n",
       "      <td>-91.53</td>\n",
       "      <td>-16.48</td>\n",
       "      <td>0.0</td>\n",
       "      <td>-2.67</td>\n",
       "      <td>1.0</td>\n",
       "      <td>-2.67</td>\n",
       "    </tr>\n",
       "    <tr>\n",
       "      <th>1</th>\n",
       "      <td>2023-07-18 22:47:56</td>\n",
       "      <td>foldingbagfish06</td>\n",
       "      <td>Cancelled</td>\n",
       "      <td>18</td>\n",
       "      <td>264.0</td>\n",
       "      <td>1.0</td>\n",
       "      <td>CB0036177715</td>\n",
       "      <td>2023-10-09</td>\n",
       "      <td>258.12</td>\n",
       "      <td>PREMIUM_RETURN</td>\n",
       "      <td>...</td>\n",
       "      <td>0.0</td>\n",
       "      <td>83.0</td>\n",
       "      <td>0.0</td>\n",
       "      <td>0.0</td>\n",
       "      <td>-70.34</td>\n",
       "      <td>-12.66</td>\n",
       "      <td>0.0</td>\n",
       "      <td>-2.94</td>\n",
       "      <td>1.0</td>\n",
       "      <td>-2.94</td>\n",
       "    </tr>\n",
       "    <tr>\n",
       "      <th>2</th>\n",
       "      <td>2023-06-26 13:46:49</td>\n",
       "      <td>UVRESIN-001-HARD-25g</td>\n",
       "      <td>Cancelled</td>\n",
       "      <td>18</td>\n",
       "      <td>196.0</td>\n",
       "      <td>1.0</td>\n",
       "      <td>IN6ON231009037US</td>\n",
       "      <td>2023-10-09</td>\n",
       "      <td>191.51</td>\n",
       "      <td>BASIC</td>\n",
       "      <td>...</td>\n",
       "      <td>0.0</td>\n",
       "      <td>69.0</td>\n",
       "      <td>0.0</td>\n",
       "      <td>0.0</td>\n",
       "      <td>-58.47</td>\n",
       "      <td>-10.52</td>\n",
       "      <td>0.0</td>\n",
       "      <td>-2.25</td>\n",
       "      <td>1.0</td>\n",
       "      <td>-2.25</td>\n",
       "    </tr>\n",
       "    <tr>\n",
       "      <th>3</th>\n",
       "      <td>2023-06-21 08:46:57</td>\n",
       "      <td>foldingbagstrawberry06</td>\n",
       "      <td>Cancelled</td>\n",
       "      <td>18</td>\n",
       "      <td>224.0</td>\n",
       "      <td>1.0</td>\n",
       "      <td>IN6ON231012027ZI</td>\n",
       "      <td>2023-10-12</td>\n",
       "      <td>219.06</td>\n",
       "      <td>BASIC</td>\n",
       "      <td>...</td>\n",
       "      <td>0.0</td>\n",
       "      <td>67.0</td>\n",
       "      <td>0.0</td>\n",
       "      <td>0.0</td>\n",
       "      <td>-56.78</td>\n",
       "      <td>-10.22</td>\n",
       "      <td>0.0</td>\n",
       "      <td>-2.47</td>\n",
       "      <td>1.0</td>\n",
       "      <td>-2.47</td>\n",
       "    </tr>\n",
       "    <tr>\n",
       "      <th>4</th>\n",
       "      <td>2023-09-23 12:37:15</td>\n",
       "      <td>stampabcdwoodcapitalvintage</td>\n",
       "      <td>Delivered</td>\n",
       "      <td>18</td>\n",
       "      <td>239.0</td>\n",
       "      <td>1.0</td>\n",
       "      <td>YESB32764823640</td>\n",
       "      <td>2023-10-03</td>\n",
       "      <td>233.74</td>\n",
       "      <td>NaN</td>\n",
       "      <td>...</td>\n",
       "      <td>0.0</td>\n",
       "      <td>71.0</td>\n",
       "      <td>0.0</td>\n",
       "      <td>0.0</td>\n",
       "      <td>-60.17</td>\n",
       "      <td>-10.83</td>\n",
       "      <td>0.0</td>\n",
       "      <td>-2.63</td>\n",
       "      <td>1.0</td>\n",
       "      <td>-2.63</td>\n",
       "    </tr>\n",
       "  </tbody>\n",
       "</table>\n",
       "<p>5 rows × 21 columns</p>\n",
       "</div>"
      ],
      "text/plain": [
       "            Order Date                 Supplier SKU Live Order Status  \\\n",
       "0  2023-07-21 12:16:19            ART-MARK-ALC-12SK         Cancelled   \n",
       "1  2023-07-18 22:47:56             foldingbagfish06         Cancelled   \n",
       "2  2023-06-26 13:46:49         UVRESIN-001-HARD-25g         Cancelled   \n",
       "3  2023-06-21 08:46:57       foldingbagstrawberry06         Cancelled   \n",
       "4  2023-09-23 12:37:15  stampabcdwoodcapitalvintage         Delivered   \n",
       "\n",
       "  Product GST %  Listing Price (Incl. GST & Commission)  Quantity  \\\n",
       "0            18                                   207.0       1.0   \n",
       "1            18                                   264.0       1.0   \n",
       "2            18                                   196.0       1.0   \n",
       "3            18                                   224.0       1.0   \n",
       "4            18                                   239.0       1.0   \n",
       "\n",
       "     Transaction ID Payment Date Final Settlement Amount      Price Type  ...  \\\n",
       "0  IN6ON231009037US   2023-10-09                  201.65           BASIC  ...   \n",
       "1      CB0036177715   2023-10-09                  258.12  PREMIUM_RETURN  ...   \n",
       "2  IN6ON231009037US   2023-10-09                  191.51           BASIC  ...   \n",
       "3  IN6ON231012027ZI   2023-10-12                  219.06           BASIC  ...   \n",
       "4   YESB32764823640   2023-10-03                  233.74             NaN  ...   \n",
       "\n",
       "  Sale Return Amount (Incl. GST) Shipping Revenue (Incl. GST)  \\\n",
       "0                            0.0                        108.0   \n",
       "1                            0.0                         83.0   \n",
       "2                            0.0                         69.0   \n",
       "3                            0.0                         67.0   \n",
       "4                            0.0                         71.0   \n",
       "\n",
       "  Shipping Return Amount (Incl. GST) Return Shipping Charge (Excl. GST)  \\\n",
       "0                                0.0                                0.0   \n",
       "1                                0.0                                0.0   \n",
       "2                                0.0                                0.0   \n",
       "3                                0.0                                0.0   \n",
       "4                                0.0                                0.0   \n",
       "\n",
       "  Shipping Charge (Excl. GST)  \\\n",
       "0                      -91.53   \n",
       "1                      -70.34   \n",
       "2                      -58.47   \n",
       "3                      -56.78   \n",
       "4                      -60.17   \n",
       "\n",
       "  GST on Shipping Charge', 'CGST + SGST on Shipping Charge  \\\n",
       "0                                             -16.48         \n",
       "1                                             -12.66         \n",
       "2                                             -10.52         \n",
       "3                                             -10.22         \n",
       "4                                             -10.83         \n",
       "\n",
       "  GST on Return Shipping Charge    TCS TDS Rate %    TDS  \n",
       "0                           0.0  -2.67        1.0  -2.67  \n",
       "1                           0.0  -2.94        1.0  -2.94  \n",
       "2                           0.0  -2.25        1.0  -2.25  \n",
       "3                           0.0  -2.47        1.0  -2.47  \n",
       "4                           0.0  -2.63        1.0  -2.63  \n",
       "\n",
       "[5 rows x 21 columns]"
      ]
     },
     "execution_count": 7,
     "metadata": {},
     "output_type": "execute_result"
    }
   ],
   "source": [
    "order_payments_df.head()"
   ]
  },
  {
   "cell_type": "code",
   "execution_count": 8,
   "id": "3dc2ad98-3b36-45f9-b31c-a9e44f5ff95e",
   "metadata": {},
   "outputs": [
    {
     "data": {
      "text/html": [
       "<div>\n",
       "<style scoped>\n",
       "    .dataframe tbody tr th:only-of-type {\n",
       "        vertical-align: middle;\n",
       "    }\n",
       "\n",
       "    .dataframe tbody tr th {\n",
       "        vertical-align: top;\n",
       "    }\n",
       "\n",
       "    .dataframe thead th {\n",
       "        text-align: right;\n",
       "    }\n",
       "</style>\n",
       "<table border=\"1\" class=\"dataframe\">\n",
       "  <thead>\n",
       "    <tr style=\"text-align: right;\">\n",
       "      <th></th>\n",
       "      <th>Supplier SKU</th>\n",
       "      <th>Purchase Price</th>\n",
       "    </tr>\n",
       "  </thead>\n",
       "  <tbody>\n",
       "    <tr>\n",
       "      <th>0</th>\n",
       "      <td>stampabcdwoodcapitalvintage</td>\n",
       "      <td>126.0</td>\n",
       "    </tr>\n",
       "    <tr>\n",
       "      <th>1</th>\n",
       "      <td>ART-MARK-ALC-12SK</td>\n",
       "      <td>120.0</td>\n",
       "    </tr>\n",
       "    <tr>\n",
       "      <th>2</th>\n",
       "      <td>stampabcdwoodcapitalvintage</td>\n",
       "      <td>126.0</td>\n",
       "    </tr>\n",
       "    <tr>\n",
       "      <th>3</th>\n",
       "      <td>PCLAY-BSKIT-BRIGHT-10x10G</td>\n",
       "      <td>97.0</td>\n",
       "    </tr>\n",
       "    <tr>\n",
       "      <th>4</th>\n",
       "      <td>EPOXY-PRIME-2:1-300G</td>\n",
       "      <td>225.0</td>\n",
       "    </tr>\n",
       "    <tr>\n",
       "      <th>5</th>\n",
       "      <td>foldingbagstrawberry06</td>\n",
       "      <td>182.0</td>\n",
       "    </tr>\n",
       "    <tr>\n",
       "      <th>6</th>\n",
       "      <td>PCLAY-BSKIT-BRIGHT-10x10G</td>\n",
       "      <td>97.0</td>\n",
       "    </tr>\n",
       "    <tr>\n",
       "      <th>7</th>\n",
       "      <td>foldingbagrose06</td>\n",
       "      <td>188.0</td>\n",
       "    </tr>\n",
       "    <tr>\n",
       "      <th>8</th>\n",
       "      <td>PCLAY-BSKIT-BRIGHT-10x10G</td>\n",
       "      <td>97.0</td>\n",
       "    </tr>\n",
       "    <tr>\n",
       "      <th>9</th>\n",
       "      <td>ART-MARK-ALC-12SK</td>\n",
       "      <td>120.0</td>\n",
       "    </tr>\n",
       "  </tbody>\n",
       "</table>\n",
       "</div>"
      ],
      "text/plain": [
       "                  Supplier SKU  Purchase Price\n",
       "0  stampabcdwoodcapitalvintage           126.0\n",
       "1            ART-MARK-ALC-12SK           120.0\n",
       "2  stampabcdwoodcapitalvintage           126.0\n",
       "3    PCLAY-BSKIT-BRIGHT-10x10G            97.0\n",
       "4         EPOXY-PRIME-2:1-300G           225.0\n",
       "5       foldingbagstrawberry06           182.0\n",
       "6    PCLAY-BSKIT-BRIGHT-10x10G            97.0\n",
       "7             foldingbagrose06           188.0\n",
       "8    PCLAY-BSKIT-BRIGHT-10x10G            97.0\n",
       "9            ART-MARK-ALC-12SK           120.0"
      ]
     },
     "execution_count": 8,
     "metadata": {},
     "output_type": "execute_result"
    }
   ],
   "source": [
    "purchase_price_df.head(10)"
   ]
  },
  {
   "cell_type": "code",
   "execution_count": 9,
   "id": "043207ae-989d-4be6-8af8-8d06094cb116",
   "metadata": {},
   "outputs": [
    {
     "name": "stdout",
     "output_type": "stream",
     "text": [
      "<class 'pandas.core.frame.DataFrame'>\n",
      "RangeIndex: 281 entries, 0 to 280\n",
      "Data columns (total 21 columns):\n",
      " #   Column                                                    Non-Null Count  Dtype  \n",
      "---  ------                                                    --------------  -----  \n",
      " 0   Order Date                                                280 non-null    object \n",
      " 1   Supplier SKU                                              280 non-null    object \n",
      " 2   Live Order Status                                         280 non-null    object \n",
      " 3   Product GST %                                             281 non-null    object \n",
      " 4   Listing Price (Incl. GST & Commission)                    280 non-null    float64\n",
      " 5   Quantity                                                  280 non-null    float64\n",
      " 6   Transaction ID                                            280 non-null    object \n",
      " 7   Payment Date                                              280 non-null    object \n",
      " 8   Final Settlement Amount                                   281 non-null    object \n",
      " 9   Price Type                                                269 non-null    object \n",
      " 10  Total Sale Amount (Incl. Commission & GST)                281 non-null    object \n",
      " 11  Sale Return Amount (Incl. GST)                            281 non-null    object \n",
      " 12  Shipping Revenue (Incl. GST)                              281 non-null    object \n",
      " 13  Shipping Return Amount (Incl. GST)                        281 non-null    object \n",
      " 14  Return Shipping Charge (Excl. GST)                        281 non-null    object \n",
      " 15  Shipping Charge (Excl. GST)                               281 non-null    object \n",
      " 16  GST on Shipping Charge', 'CGST + SGST on Shipping Charge  281 non-null    object \n",
      " 17  GST on Return Shipping Charge                             281 non-null    object \n",
      " 18  TCS                                                       281 non-null    object \n",
      " 19  TDS Rate %                                                235 non-null    object \n",
      " 20  TDS                                                       235 non-null    object \n",
      "dtypes: float64(2), object(19)\n",
      "memory usage: 46.2+ KB\n"
     ]
    }
   ],
   "source": [
    "order_payments_df.info()"
   ]
  },
  {
   "cell_type": "code",
   "execution_count": 10,
   "id": "fc758d65-4170-4858-893c-ba86a8b5986b",
   "metadata": {},
   "outputs": [
    {
     "name": "stdout",
     "output_type": "stream",
     "text": [
      "<class 'pandas.core.frame.DataFrame'>\n",
      "RangeIndex: 280 entries, 0 to 279\n",
      "Data columns (total 2 columns):\n",
      " #   Column          Non-Null Count  Dtype  \n",
      "---  ------          --------------  -----  \n",
      " 0   Supplier SKU    280 non-null    object \n",
      " 1   Purchase Price  280 non-null    float64\n",
      "dtypes: float64(1), object(1)\n",
      "memory usage: 4.5+ KB\n"
     ]
    }
   ],
   "source": [
    "purchase_price_df.info()"
   ]
  },
  {
   "cell_type": "code",
   "execution_count": 11,
   "id": "a14fc94d-45fd-497b-9caa-79384f9bdb7a",
   "metadata": {},
   "outputs": [],
   "source": [
    "order_payments_df.columns = order_payments_df.columns.str.strip()\n",
    "purchase_price_df.columns = purchase_price_df.columns.str.strip()"
   ]
  },
  {
   "cell_type": "code",
   "execution_count": 12,
   "id": "799f0a00-6134-4347-a03c-5df8bf10ebc6",
   "metadata": {},
   "outputs": [],
   "source": [
    "meesho_payment_df = pd.merge(order_payments_df, purchase_price_df, on='Supplier SKU', how='left')"
   ]
  },
  {
   "cell_type": "code",
   "execution_count": 13,
   "id": "a4d3e091-4494-4e99-9c9a-7c68c8e9db0a",
   "metadata": {},
   "outputs": [],
   "source": [
    "meesho_payment_df['Order Date'] = pd.to_datetime(meesho_payment_df['Order Date'])\n",
    "meesho_payment_df['Payment Date'] = pd.to_datetime(meesho_payment_df['Payment Date'])"
   ]
  },
  {
   "cell_type": "code",
   "execution_count": 14,
   "id": "a8c8eca1-942d-4411-a050-18347a91299b",
   "metadata": {},
   "outputs": [
    {
     "data": {
      "text/html": [
       "<div>\n",
       "<style scoped>\n",
       "    .dataframe tbody tr th:only-of-type {\n",
       "        vertical-align: middle;\n",
       "    }\n",
       "\n",
       "    .dataframe tbody tr th {\n",
       "        vertical-align: top;\n",
       "    }\n",
       "\n",
       "    .dataframe thead th {\n",
       "        text-align: right;\n",
       "    }\n",
       "</style>\n",
       "<table border=\"1\" class=\"dataframe\">\n",
       "  <thead>\n",
       "    <tr style=\"text-align: right;\">\n",
       "      <th></th>\n",
       "      <th>Order Date</th>\n",
       "      <th>Supplier SKU</th>\n",
       "      <th>Live Order Status</th>\n",
       "      <th>Product GST %</th>\n",
       "      <th>Listing Price (Incl. GST &amp; Commission)</th>\n",
       "      <th>Quantity</th>\n",
       "      <th>Transaction ID</th>\n",
       "      <th>Payment Date</th>\n",
       "      <th>Final Settlement Amount</th>\n",
       "      <th>Price Type</th>\n",
       "      <th>...</th>\n",
       "      <th>Shipping Revenue (Incl. GST)</th>\n",
       "      <th>Shipping Return Amount (Incl. GST)</th>\n",
       "      <th>Return Shipping Charge (Excl. GST)</th>\n",
       "      <th>Shipping Charge (Excl. GST)</th>\n",
       "      <th>GST on Shipping Charge', 'CGST + SGST on Shipping Charge</th>\n",
       "      <th>GST on Return Shipping Charge</th>\n",
       "      <th>TCS</th>\n",
       "      <th>TDS Rate %</th>\n",
       "      <th>TDS</th>\n",
       "      <th>Purchase Price</th>\n",
       "    </tr>\n",
       "  </thead>\n",
       "  <tbody>\n",
       "    <tr>\n",
       "      <th>0</th>\n",
       "      <td>2023-07-21 12:16:19</td>\n",
       "      <td>ART-MARK-ALC-12SK</td>\n",
       "      <td>Cancelled</td>\n",
       "      <td>18</td>\n",
       "      <td>207.0</td>\n",
       "      <td>1.0</td>\n",
       "      <td>IN6ON231009037US</td>\n",
       "      <td>2023-10-09</td>\n",
       "      <td>201.65</td>\n",
       "      <td>BASIC</td>\n",
       "      <td>...</td>\n",
       "      <td>108.0</td>\n",
       "      <td>0.0</td>\n",
       "      <td>0.0</td>\n",
       "      <td>-91.53</td>\n",
       "      <td>-16.48</td>\n",
       "      <td>0.0</td>\n",
       "      <td>-2.67</td>\n",
       "      <td>1.0</td>\n",
       "      <td>-2.67</td>\n",
       "      <td>120.0</td>\n",
       "    </tr>\n",
       "    <tr>\n",
       "      <th>1</th>\n",
       "      <td>2023-07-21 12:16:19</td>\n",
       "      <td>ART-MARK-ALC-12SK</td>\n",
       "      <td>Cancelled</td>\n",
       "      <td>18</td>\n",
       "      <td>207.0</td>\n",
       "      <td>1.0</td>\n",
       "      <td>IN6ON231009037US</td>\n",
       "      <td>2023-10-09</td>\n",
       "      <td>201.65</td>\n",
       "      <td>BASIC</td>\n",
       "      <td>...</td>\n",
       "      <td>108.0</td>\n",
       "      <td>0.0</td>\n",
       "      <td>0.0</td>\n",
       "      <td>-91.53</td>\n",
       "      <td>-16.48</td>\n",
       "      <td>0.0</td>\n",
       "      <td>-2.67</td>\n",
       "      <td>1.0</td>\n",
       "      <td>-2.67</td>\n",
       "      <td>120.0</td>\n",
       "    </tr>\n",
       "    <tr>\n",
       "      <th>2</th>\n",
       "      <td>2023-07-21 12:16:19</td>\n",
       "      <td>ART-MARK-ALC-12SK</td>\n",
       "      <td>Cancelled</td>\n",
       "      <td>18</td>\n",
       "      <td>207.0</td>\n",
       "      <td>1.0</td>\n",
       "      <td>IN6ON231009037US</td>\n",
       "      <td>2023-10-09</td>\n",
       "      <td>201.65</td>\n",
       "      <td>BASIC</td>\n",
       "      <td>...</td>\n",
       "      <td>108.0</td>\n",
       "      <td>0.0</td>\n",
       "      <td>0.0</td>\n",
       "      <td>-91.53</td>\n",
       "      <td>-16.48</td>\n",
       "      <td>0.0</td>\n",
       "      <td>-2.67</td>\n",
       "      <td>1.0</td>\n",
       "      <td>-2.67</td>\n",
       "      <td>120.0</td>\n",
       "    </tr>\n",
       "    <tr>\n",
       "      <th>3</th>\n",
       "      <td>2023-07-21 12:16:19</td>\n",
       "      <td>ART-MARK-ALC-12SK</td>\n",
       "      <td>Cancelled</td>\n",
       "      <td>18</td>\n",
       "      <td>207.0</td>\n",
       "      <td>1.0</td>\n",
       "      <td>IN6ON231009037US</td>\n",
       "      <td>2023-10-09</td>\n",
       "      <td>201.65</td>\n",
       "      <td>BASIC</td>\n",
       "      <td>...</td>\n",
       "      <td>108.0</td>\n",
       "      <td>0.0</td>\n",
       "      <td>0.0</td>\n",
       "      <td>-91.53</td>\n",
       "      <td>-16.48</td>\n",
       "      <td>0.0</td>\n",
       "      <td>-2.67</td>\n",
       "      <td>1.0</td>\n",
       "      <td>-2.67</td>\n",
       "      <td>120.0</td>\n",
       "    </tr>\n",
       "    <tr>\n",
       "      <th>4</th>\n",
       "      <td>2023-07-21 12:16:19</td>\n",
       "      <td>ART-MARK-ALC-12SK</td>\n",
       "      <td>Cancelled</td>\n",
       "      <td>18</td>\n",
       "      <td>207.0</td>\n",
       "      <td>1.0</td>\n",
       "      <td>IN6ON231009037US</td>\n",
       "      <td>2023-10-09</td>\n",
       "      <td>201.65</td>\n",
       "      <td>BASIC</td>\n",
       "      <td>...</td>\n",
       "      <td>108.0</td>\n",
       "      <td>0.0</td>\n",
       "      <td>0.0</td>\n",
       "      <td>-91.53</td>\n",
       "      <td>-16.48</td>\n",
       "      <td>0.0</td>\n",
       "      <td>-2.67</td>\n",
       "      <td>1.0</td>\n",
       "      <td>-2.67</td>\n",
       "      <td>120.0</td>\n",
       "    </tr>\n",
       "  </tbody>\n",
       "</table>\n",
       "<p>5 rows × 22 columns</p>\n",
       "</div>"
      ],
      "text/plain": [
       "           Order Date       Supplier SKU Live Order Status Product GST %  \\\n",
       "0 2023-07-21 12:16:19  ART-MARK-ALC-12SK         Cancelled            18   \n",
       "1 2023-07-21 12:16:19  ART-MARK-ALC-12SK         Cancelled            18   \n",
       "2 2023-07-21 12:16:19  ART-MARK-ALC-12SK         Cancelled            18   \n",
       "3 2023-07-21 12:16:19  ART-MARK-ALC-12SK         Cancelled            18   \n",
       "4 2023-07-21 12:16:19  ART-MARK-ALC-12SK         Cancelled            18   \n",
       "\n",
       "   Listing Price (Incl. GST & Commission)  Quantity    Transaction ID  \\\n",
       "0                                   207.0       1.0  IN6ON231009037US   \n",
       "1                                   207.0       1.0  IN6ON231009037US   \n",
       "2                                   207.0       1.0  IN6ON231009037US   \n",
       "3                                   207.0       1.0  IN6ON231009037US   \n",
       "4                                   207.0       1.0  IN6ON231009037US   \n",
       "\n",
       "  Payment Date Final Settlement Amount Price Type  ...  \\\n",
       "0   2023-10-09                  201.65      BASIC  ...   \n",
       "1   2023-10-09                  201.65      BASIC  ...   \n",
       "2   2023-10-09                  201.65      BASIC  ...   \n",
       "3   2023-10-09                  201.65      BASIC  ...   \n",
       "4   2023-10-09                  201.65      BASIC  ...   \n",
       "\n",
       "  Shipping Revenue (Incl. GST) Shipping Return Amount (Incl. GST)  \\\n",
       "0                        108.0                                0.0   \n",
       "1                        108.0                                0.0   \n",
       "2                        108.0                                0.0   \n",
       "3                        108.0                                0.0   \n",
       "4                        108.0                                0.0   \n",
       "\n",
       "  Return Shipping Charge (Excl. GST) Shipping Charge (Excl. GST)  \\\n",
       "0                                0.0                      -91.53   \n",
       "1                                0.0                      -91.53   \n",
       "2                                0.0                      -91.53   \n",
       "3                                0.0                      -91.53   \n",
       "4                                0.0                      -91.53   \n",
       "\n",
       "  GST on Shipping Charge', 'CGST + SGST on Shipping Charge  \\\n",
       "0                                             -16.48         \n",
       "1                                             -16.48         \n",
       "2                                             -16.48         \n",
       "3                                             -16.48         \n",
       "4                                             -16.48         \n",
       "\n",
       "  GST on Return Shipping Charge    TCS TDS Rate %    TDS Purchase Price  \n",
       "0                           0.0  -2.67        1.0  -2.67          120.0  \n",
       "1                           0.0  -2.67        1.0  -2.67          120.0  \n",
       "2                           0.0  -2.67        1.0  -2.67          120.0  \n",
       "3                           0.0  -2.67        1.0  -2.67          120.0  \n",
       "4                           0.0  -2.67        1.0  -2.67          120.0  \n",
       "\n",
       "[5 rows x 22 columns]"
      ]
     },
     "execution_count": 14,
     "metadata": {},
     "output_type": "execute_result"
    }
   ],
   "source": [
    "meesho_payment_df.head()"
   ]
  },
  {
   "cell_type": "code",
   "execution_count": 15,
   "id": "76b75722-2af7-43fe-bc1c-0c060a3dd7d6",
   "metadata": {},
   "outputs": [
    {
     "data": {
      "text/plain": [
       "Order Date                                                    1\n",
       "Supplier SKU                                                  1\n",
       "Live Order Status                                             1\n",
       "Product GST %                                                 0\n",
       "Listing Price (Incl. GST & Commission)                        1\n",
       "Quantity                                                      1\n",
       "Transaction ID                                                1\n",
       "Payment Date                                                  1\n",
       "Final Settlement Amount                                       0\n",
       "Price Type                                                   53\n",
       "Total Sale Amount (Incl. Commission & GST)                    0\n",
       "Sale Return Amount (Incl. GST)                                0\n",
       "Shipping Revenue (Incl. GST)                                  0\n",
       "Shipping Return Amount (Incl. GST)                            0\n",
       "Return Shipping Charge (Excl. GST)                            0\n",
       "Shipping Charge (Excl. GST)                                   0\n",
       "GST on Shipping Charge', 'CGST + SGST on Shipping Charge      0\n",
       "GST on Return Shipping Charge                                 0\n",
       "TCS                                                           0\n",
       "TDS Rate %                                                  752\n",
       "TDS                                                         752\n",
       "Purchase Price                                                1\n",
       "dtype: int64"
      ]
     },
     "execution_count": 15,
     "metadata": {},
     "output_type": "execute_result"
    }
   ],
   "source": [
    "pd.isnull(meesho_payment_df).sum()"
   ]
  },
  {
   "cell_type": "code",
   "execution_count": 16,
   "id": "a66a3fed-3917-4861-923c-fa6744cd438a",
   "metadata": {},
   "outputs": [],
   "source": [
    "meesho_payment_df.dropna(inplace=True)"
   ]
  },
  {
   "cell_type": "code",
   "execution_count": 17,
   "id": "794b0ffc-0c7d-4a22-98ae-2567b17ef6c0",
   "metadata": {},
   "outputs": [
    {
     "data": {
      "text/plain": [
       "Order Date                                                  0\n",
       "Supplier SKU                                                0\n",
       "Live Order Status                                           0\n",
       "Product GST %                                               0\n",
       "Listing Price (Incl. GST & Commission)                      0\n",
       "Quantity                                                    0\n",
       "Transaction ID                                              0\n",
       "Payment Date                                                0\n",
       "Final Settlement Amount                                     0\n",
       "Price Type                                                  0\n",
       "Total Sale Amount (Incl. Commission & GST)                  0\n",
       "Sale Return Amount (Incl. GST)                              0\n",
       "Shipping Revenue (Incl. GST)                                0\n",
       "Shipping Return Amount (Incl. GST)                          0\n",
       "Return Shipping Charge (Excl. GST)                          0\n",
       "Shipping Charge (Excl. GST)                                 0\n",
       "GST on Shipping Charge', 'CGST + SGST on Shipping Charge    0\n",
       "GST on Return Shipping Charge                               0\n",
       "TCS                                                         0\n",
       "TDS Rate %                                                  0\n",
       "TDS                                                         0\n",
       "Purchase Price                                              0\n",
       "dtype: int64"
      ]
     },
     "execution_count": 17,
     "metadata": {},
     "output_type": "execute_result"
    }
   ],
   "source": [
    "pd.isnull(meesho_payment_df).sum()"
   ]
  },
  {
   "cell_type": "code",
   "execution_count": 18,
   "id": "4fee10aa-4446-4176-ba17-71c458e0c1bb",
   "metadata": {},
   "outputs": [
    {
     "data": {
      "text/plain": [
       "Index(['Order Date', 'Supplier SKU', 'Live Order Status', 'Product GST %',\n",
       "       'Listing Price (Incl. GST & Commission)', 'Quantity', 'Transaction ID',\n",
       "       'Payment Date', 'Final Settlement Amount', 'Price Type',\n",
       "       'Total Sale Amount (Incl. Commission & GST)',\n",
       "       'Sale Return Amount (Incl. GST)', 'Shipping Revenue (Incl. GST)',\n",
       "       'Shipping Return Amount (Incl. GST)',\n",
       "       'Return Shipping Charge (Excl. GST)', 'Shipping Charge (Excl. GST)',\n",
       "       'GST on Shipping Charge', 'CGST + SGST on Shipping Charge',\n",
       "       'GST on Return Shipping Charge', 'TCS', 'TDS Rate %', 'TDS',\n",
       "       'Purchase Price'],\n",
       "      dtype='object')"
      ]
     },
     "execution_count": 18,
     "metadata": {},
     "output_type": "execute_result"
    }
   ],
   "source": [
    "meesho_payment_df.columns"
   ]
  },
  {
   "cell_type": "code",
   "execution_count": 19,
   "id": "b5fcc025-4f2e-4b3e-bd34-f870ebfb9ea0",
   "metadata": {},
   "outputs": [
    {
     "data": {
      "text/html": [
       "<div>\n",
       "<style scoped>\n",
       "    .dataframe tbody tr th:only-of-type {\n",
       "        vertical-align: middle;\n",
       "    }\n",
       "\n",
       "    .dataframe tbody tr th {\n",
       "        vertical-align: top;\n",
       "    }\n",
       "\n",
       "    .dataframe thead th {\n",
       "        text-align: right;\n",
       "    }\n",
       "</style>\n",
       "<table border=\"1\" class=\"dataframe\">\n",
       "  <thead>\n",
       "    <tr style=\"text-align: right;\">\n",
       "      <th></th>\n",
       "      <th>Listing Price (Incl. GST &amp; Commission)</th>\n",
       "      <th>Quantity</th>\n",
       "      <th>Purchase Price</th>\n",
       "    </tr>\n",
       "  </thead>\n",
       "  <tbody>\n",
       "    <tr>\n",
       "      <th>count</th>\n",
       "      <td>4426.000000</td>\n",
       "      <td>4426.000000</td>\n",
       "      <td>4426.000000</td>\n",
       "    </tr>\n",
       "    <tr>\n",
       "      <th>mean</th>\n",
       "      <td>328.833258</td>\n",
       "      <td>1.018979</td>\n",
       "      <td>280.793832</td>\n",
       "    </tr>\n",
       "    <tr>\n",
       "      <th>std</th>\n",
       "      <td>162.465029</td>\n",
       "      <td>0.156520</td>\n",
       "      <td>168.611309</td>\n",
       "    </tr>\n",
       "    <tr>\n",
       "      <th>min</th>\n",
       "      <td>76.000000</td>\n",
       "      <td>1.000000</td>\n",
       "      <td>45.000000</td>\n",
       "    </tr>\n",
       "    <tr>\n",
       "      <th>25%</th>\n",
       "      <td>189.000000</td>\n",
       "      <td>1.000000</td>\n",
       "      <td>120.000000</td>\n",
       "    </tr>\n",
       "    <tr>\n",
       "      <th>50%</th>\n",
       "      <td>363.000000</td>\n",
       "      <td>1.000000</td>\n",
       "      <td>225.000000</td>\n",
       "    </tr>\n",
       "    <tr>\n",
       "      <th>75%</th>\n",
       "      <td>463.000000</td>\n",
       "      <td>1.000000</td>\n",
       "      <td>450.000000</td>\n",
       "    </tr>\n",
       "    <tr>\n",
       "      <th>max</th>\n",
       "      <td>1234.000000</td>\n",
       "      <td>3.000000</td>\n",
       "      <td>830.000000</td>\n",
       "    </tr>\n",
       "  </tbody>\n",
       "</table>\n",
       "</div>"
      ],
      "text/plain": [
       "       Listing Price (Incl. GST & Commission)     Quantity  Purchase Price\n",
       "count                             4426.000000  4426.000000     4426.000000\n",
       "mean                               328.833258     1.018979      280.793832\n",
       "std                                162.465029     0.156520      168.611309\n",
       "min                                 76.000000     1.000000       45.000000\n",
       "25%                                189.000000     1.000000      120.000000\n",
       "50%                                363.000000     1.000000      225.000000\n",
       "75%                                463.000000     1.000000      450.000000\n",
       "max                               1234.000000     3.000000      830.000000"
      ]
     },
     "execution_count": 19,
     "metadata": {},
     "output_type": "execute_result"
    }
   ],
   "source": [
    "meesho_payment_df[['Listing Price (Incl. GST & Commission)', 'Quantity', 'Purchase Price']].describe()"
   ]
  },
  {
   "cell_type": "code",
   "execution_count": 20,
   "id": "50399a8f-34ab-4c08-89ad-d5402994dae0",
   "metadata": {},
   "outputs": [],
   "source": [
    "meesho_payment_df['Final Settlement Amount'] = pd.to_numeric(meesho_payment_df['Final Settlement Amount'], errors='coerce')\n",
    "meesho_payment_df['Purchase Price'] = pd.to_numeric(meesho_payment_df['Purchase Price'], errors='coerce')"
   ]
  },
  {
   "cell_type": "code",
   "execution_count": 21,
   "id": "acd6c1df-2bd6-4d5f-9215-0fa71540ed6c",
   "metadata": {},
   "outputs": [],
   "source": [
    "meesho_payment_df = meesho_payment_df.dropna(subset=['Final Settlement Amount', 'Purchase Price'])"
   ]
  },
  {
   "cell_type": "code",
   "execution_count": 22,
   "id": "152ab00e-d9c1-406a-afe2-3da5b25e2b32",
   "metadata": {},
   "outputs": [],
   "source": [
    "meesho_payment_df['Profit'] = meesho_payment_df['Final Settlement Amount'] - meesho_payment_df['Purchase Price']"
   ]
  },
  {
   "cell_type": "code",
   "execution_count": 23,
   "id": "f953b277-3930-4442-b91a-071926648f91",
   "metadata": {},
   "outputs": [],
   "source": [
    "meesho_payment_df['Month'] = meesho_payment_df['Order Date'].dt.month"
   ]
  },
  {
   "cell_type": "code",
   "execution_count": 24,
   "id": "4679c57c-9032-4b89-b3b9-ab1f8450fa68",
   "metadata": {},
   "outputs": [
    {
     "data": {
      "text/plain": [
       "0        81.65\n",
       "1        81.65\n",
       "2        81.65\n",
       "3        81.65\n",
       "4        81.65\n",
       "         ...  \n",
       "5219    373.80\n",
       "5220    373.80\n",
       "5221    373.80\n",
       "5222    373.80\n",
       "5223    373.80\n",
       "Name: Profit, Length: 4426, dtype: float64"
      ]
     },
     "execution_count": 24,
     "metadata": {},
     "output_type": "execute_result"
    }
   ],
   "source": [
    "meesho_payment_df['Profit']"
   ]
  },
  {
   "cell_type": "code",
   "execution_count": 25,
   "id": "16aa7e37-cc60-4a89-98b7-a0d48954a90f",
   "metadata": {},
   "outputs": [],
   "source": [
    "meesho_payment_df['State'] = meesho_payment_df['Transaction ID'].str.extract('([A-Za-z]{2})')"
   ]
  },
  {
   "cell_type": "code",
   "execution_count": 26,
   "id": "0243dd51-fe48-41f9-8b13-799a5d573dae",
   "metadata": {},
   "outputs": [],
   "source": [
    "total_profit = meesho_payment_df.groupby('Month')['Profit'].sum().sum()"
   ]
  },
  {
   "cell_type": "code",
   "execution_count": 27,
   "id": "88dea6bf-ab84-42be-a910-6403dd8baa58",
   "metadata": {},
   "outputs": [
    {
     "name": "stdout",
     "output_type": "stream",
     "text": [
      "Total Profit for Entire Month: 206522.05000000002\n"
     ]
    }
   ],
   "source": [
    "print(f\"Total Profit for Entire Month: {total_profit}\")"
   ]
  },
  {
   "cell_type": "code",
   "execution_count": 28,
   "id": "79a73432-f687-4339-8335-16339d3af907",
   "metadata": {},
   "outputs": [
    {
     "name": "stderr",
     "output_type": "stream",
     "text": [
      "C:\\Users\\FUJITSU\\AppData\\Local\\Temp\\ipykernel_8648\\2125009247.py:2: FutureWarning: \n",
      "\n",
      "The `ci` parameter is deprecated. Use `errorbar=None` for the same effect.\n",
      "\n",
      "  sns.barplot(x='Month', y='Profit', data=meesho_payment_df, estimator=sum, ci=None)\n"
     ]
    },
    {
     "data": {
      "image/png": "[encoded data removed]",
      "text/plain": [
       "<Figure size 1000x600 with 1 Axes>"
      ]
     },
     "metadata": {},
     "output_type": "display_data"
    }
   ],
   "source": [
    "plt.figure(figsize=(10, 6))\n",
    "sns.barplot(x='Month', y='Profit', data=meesho_payment_df, estimator=sum, ci=None)\n",
    "plt.title('Monthly Profit')\n",
    "plt.xlabel('Month')\n",
    "plt.ylabel('Total Profit')\n",
    "plt.show()"
   ]
  },
  {
   "cell_type": "code",
   "execution_count": 29,
   "id": "2d56a3bd-cbd2-4551-ae17-4fa5dff4e99b",
   "metadata": {},
   "outputs": [],
   "source": [
    "sku_profitability = meesho_payment_df.groupby('Supplier SKU')['Final Settlement Amount'].sum()"
   ]
  },
  {
   "cell_type": "code",
   "execution_count": 30,
   "id": "fdf6d023-1877-4a7e-a0cc-21ca473f41a9",
   "metadata": {},
   "outputs": [
    {
     "name": "stdout",
     "output_type": "stream",
     "text": [
      "\n",
      "Profitability SKU wise for Entire Month:\n",
      "Supplier SKU\n",
      " Wooden Puzzle                         138.82\n",
      "ART-AMC-100ML-GP100                  40575.42\n",
      "ART-BR-COMBO1                          549.26\n",
      "ART-MARK-ALC-12SK                   141284.92\n",
      "ART-MARKER-TOUCHDUALTIP-24           40469.44\n",
      "ART-MARKER-TOUCHDUALTIP-36             438.60\n",
      "ART-STAMP-ALPHABET-101221              346.10\n",
      "ART-TOOLS-SHAPER4mm-BLACK01            164.84\n",
      "EPOXY-PRIME-2:1-1500G                32208.40\n",
      "EPOXY-PRIME-2:1-300G                 43693.80\n",
      "EPOXY-PRIME-2:1-750G                902235.03\n",
      "PCLAY-BSKIT-BRIGHT-10x10G            49661.06\n",
      "PCLAY-BSKIT-PASTEL-10x10G             1048.44\n",
      "SmileyFoldingBags12New                8218.38\n",
      "UVRESIN-001-HARD-100g                59201.50\n",
      "UVRESIN-001-HARD-10g                  9165.24\n",
      "UVRESIN-001-HARD-25g                 17980.30\n",
      "UVRESIN-001-HARD-60g                  6971.80\n",
      "airdryclaybrown250g                    125.90\n",
      "diylegosharpener06                     306.24\n",
      "foldingbagfish03                      1671.06\n",
      "foldingbagfish06                      5576.55\n",
      "foldingbaggrape03                      547.86\n",
      "foldingbagrose06                     21530.30\n",
      "foldingbagrose12                       521.06\n",
      "foldingbagstrawberry06               24464.20\n",
      "foldingbagstrawberry12                1932.36\n",
      "goldenhappybirthdayfoilballoon01      5585.71\n",
      "measuringcupspoon10Pc                  174.99\n",
      "papercliplondon                         73.80\n",
      "pencamera12                            173.41\n",
      "polymerclay12box_pastel                301.63\n",
      "polymerclay24box                      2027.78\n",
      "polymerclay50box                       777.36\n",
      "toolsartcraft5pcsemboss01              147.00\n",
      "unodare01                            29026.99\n",
      "Name: Final Settlement Amount, dtype: float64\n"
     ]
    }
   ],
   "source": [
    "print(\"\\nProfitability SKU wise for Entire Month:\")\n",
    "print(sku_profitability)"
   ]
  },
  {
   "cell_type": "code",
   "execution_count": 31,
   "id": "474fe9ba-5863-4686-aa15-306604f22aa8",
   "metadata": {},
   "outputs": [
    {
     "data": {
      "image/png": "[encoded data removed]",
      "text/plain": [
       "<Figure size 1200x600 with 1 Axes>"
      ]
     },
     "metadata": {},
     "output_type": "display_data"
    }
   ],
   "source": [
    "sku_profitability_df = sku_profitability.to_frame().reset_index()\n",
    "\n",
    "# Sorting data by profitability for better visualization\n",
    "sku_profitability_df = sku_profitability_df.sort_values(by='Final Settlement Amount', ascending=False)\n",
    "\n",
    "# Plotting\n",
    "plt.figure(figsize=(12, 6))\n",
    "plt.bar(sku_profitability_df['Supplier SKU'], sku_profitability_df['Final Settlement Amount'], color='Coral')\n",
    "plt.xlabel('Supplier SKU')\n",
    "plt.ylabel('Final Settlement Amount')\n",
    "plt.title('Profitability SKU wise for Entire Month')\n",
    "plt.xticks(rotation=45, ha='right') \n",
    "plt.tight_layout()\n",
    "plt.show()"
   ]
  },
  {
   "cell_type": "code",
   "execution_count": 32,
   "id": "8f8af5b3-0d64-4b13-8929-7a621714c501",
   "metadata": {},
   "outputs": [
    {
     "name": "stdout",
     "output_type": "stream",
     "text": [
      "\n",
      "Total Payment Received for Entire Month: 1449315.5499999998\n"
     ]
    }
   ],
   "source": [
    "total_payment_received = meesho_payment_df.groupby('Month')['Final Settlement Amount'].sum().sum()\n",
    "print(f\"\\nTotal Payment Received for Entire Month: {total_payment_received}\")"
   ]
  },
  {
   "cell_type": "code",
   "execution_count": 33,
   "id": "979beb9f-9a0d-4770-b86b-cd97ab530b0a",
   "metadata": {},
   "outputs": [],
   "source": [
    "meesho_payment_df['Total Sale Amount (Incl. Commission & GST)'] = pd.to_numeric(meesho_payment_df['Total Sale Amount (Incl. Commission & GST)'], errors='coerce')"
   ]
  },
  {
   "cell_type": "code",
   "execution_count": 34,
   "id": "8a419f44-f77f-4f92-b8c9-016e14f386e1",
   "metadata": {},
   "outputs": [],
   "source": [
    "state_wise_sales_percentage = meesho_payment_df.groupby('State')['Total Sale Amount (Incl. Commission & GST)'].sum() / total_payment_received * 100"
   ]
  },
  {
   "cell_type": "code",
   "execution_count": 35,
   "id": "d09bc88c-31f9-4ba4-bd2f-44551e7367bb",
   "metadata": {},
   "outputs": [],
   "source": [
    " meesho_payment_df =  meesho_payment_df.dropna(subset=['Total Sale Amount (Incl. Commission & GST)'])"
   ]
  },
  {
   "cell_type": "code",
   "execution_count": 36,
   "id": "c66b165c-06f2-42ee-9954-64f8c9cfdcb5",
   "metadata": {},
   "outputs": [],
   "source": [
    "state_wise_sales_percentage = meesho_payment_df.groupby('State')['Total Sale Amount (Incl. Commission & GST)'].sum() / total_payment_received * 100"
   ]
  },
  {
   "cell_type": "code",
   "execution_count": 37,
   "id": "8dec6ef9-a499-4ea2-8fa7-ad637bf150c1",
   "metadata": {},
   "outputs": [
    {
     "name": "stdout",
     "output_type": "stream",
     "text": [
      "\n",
      "Total Sales % State Wise:\n"
     ]
    }
   ],
   "source": [
    "print(\"\\nTotal Sales % State Wise:\")"
   ]
  },
  {
   "cell_type": "code",
   "execution_count": 38,
   "id": "5f234109-8ca3-4dc5-87d4-9bb22c31a662",
   "metadata": {},
   "outputs": [
    {
     "name": "stdout",
     "output_type": "stream",
     "text": [
      "State\n",
      "CB    30.139675\n",
      "IN    69.012990\n",
      "YE     3.056270\n",
      "Name: Total Sale Amount (Incl. Commission & GST), dtype: float64\n"
     ]
    }
   ],
   "source": [
    "print(state_wise_sales_percentage)"
   ]
  },
  {
   "cell_type": "code",
   "execution_count": 39,
   "id": "6f6df0b0-e323-49d4-9a8d-b80dcb0dea77",
   "metadata": {},
   "outputs": [
    {
     "data": {
      "image/png": "[encoded data removed]",
      "text/plain": [
       "<Figure size 1000x600 with 1 Axes>"
      ]
     },
     "metadata": {},
     "output_type": "display_data"
    }
   ],
   "source": [
    "state_wise_sales_percentage = state_wise_sales_percentage.reset_index()\n",
    "\n",
    "# Visualization\n",
    "plt.figure(figsize=(10, 6))\n",
    "sns.barplot(x=state_wise_sales_percentage.columns[0], y=state_wise_sales_percentage.columns[1], data=state_wise_sales_percentage)\n",
    "plt.title('Total Sales % State Wise')\n",
    "plt.xlabel('State')\n",
    "plt.ylabel('Percentage of Total Sales')\n",
    "plt.show()"
   ]
  },
  {
   "cell_type": "code",
   "execution_count": 40,
   "id": "53914cf0-3291-43c2-a4e4-102999043ec0",
   "metadata": {},
   "outputs": [],
   "source": [
    "average_profit_per_order = total_profit / meesho_payment_df['Transaction ID'].count()"
   ]
  },
  {
   "cell_type": "code",
   "execution_count": 41,
   "id": "6fce07dd-d996-4c38-9852-6806b03f4ae2",
   "metadata": {},
   "outputs": [
    {
     "name": "stdout",
     "output_type": "stream",
     "text": [
      "On average, each order contributed a profit of 46.66110483506552\n"
     ]
    }
   ],
   "source": [
    "print(f\"On average, each order contributed a profit of {average_profit_per_order}\")"
   ]
  },
  {
   "cell_type": "code",
   "execution_count": null,
   "id": "21e21b0e-9dc8-4269-b707-fabdac68e4e7",
   "metadata": {},
   "outputs": [],
   "source": []
  }
 ],
 "metadata": {
  "kernelspec": {
   "display_name": "Python 3 (ipykernel)",
   "language": "python",
   "name": "python3"
  },
  "language_info": {
   "codemirror_mode": {
    "name": "ipython",
    "version": 3
   },
   "file_extension": ".py",
   "mimetype": "text/x-python",
   "name": "python",
   "nbconvert_exporter": "python",
   "pygments_lexer": "ipython3",
   "version": "3.12.7"
  }
 },
 "nbformat": 4,
 "nbformat_minor": 5
}
